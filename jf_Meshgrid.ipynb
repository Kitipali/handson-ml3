{
 "cells": [
  {
   "cell_type": "code",
   "execution_count": 2,
   "id": "2a4ed82d-0e94-453a-8762-3faefb04df00",
   "metadata": {},
   "outputs": [],
   "source": [
    "import numpy as np\n",
    "\n",
    "x = np.array([1, 2, 3])\n",
    "y = np.array([10, 20, 30])\n",
    "\n",
    "X, Y = np.meshgrid(x, y)\n"
   ]
  },
  {
   "cell_type": "code",
   "execution_count": 3,
   "id": "ff1a140c-f1e6-4c3e-8278-132089b7b098",
   "metadata": {},
   "outputs": [
    {
     "data": {
      "text/plain": [
       "array([[1, 2, 3],\n",
       "       [1, 2, 3],\n",
       "       [1, 2, 3]])"
      ]
     },
     "execution_count": 3,
     "metadata": {},
     "output_type": "execute_result"
    }
   ],
   "source": [
    "X"
   ]
  },
  {
   "cell_type": "code",
   "execution_count": 4,
   "id": "12bcb16b-7804-41eb-a88a-fdbca312f4e4",
   "metadata": {},
   "outputs": [
    {
     "data": {
      "text/plain": [
       "array([[10, 10, 10],\n",
       "       [20, 20, 20],\n",
       "       [30, 30, 30]])"
      ]
     },
     "execution_count": 4,
     "metadata": {},
     "output_type": "execute_result"
    }
   ],
   "source": [
    "Y"
   ]
  },
  {
   "cell_type": "markdown",
   "id": "451011fc-f898-4c8c-b221-f2b3ced22ddd",
   "metadata": {},
   "source": [
    "y ↑\n",
    "\n",
    "30 | ● ● ●\n",
    "\n",
    "20 | ● ● ●\n",
    "\n",
    "10 | ● ● ●\n",
    "\n",
    "    +--------\n",
    "    \n",
    "      1 2 3 → x\n",
    "\n",
    "      \n"
   ]
  },
  {
   "cell_type": "code",
   "execution_count": 5,
   "id": "941a603a-de7d-499f-bc03-88a62690e9c2",
   "metadata": {},
   "outputs": [
    {
     "data": {
      "text/plain": [
       "(3,)"
      ]
     },
     "execution_count": 5,
     "metadata": {},
     "output_type": "execute_result"
    }
   ],
   "source": [
    "x.shape"
   ]
  },
  {
   "cell_type": "code",
   "execution_count": 6,
   "id": "06a25495-c306-4f70-a195-be65c74a0c74",
   "metadata": {},
   "outputs": [
    {
     "data": {
      "text/plain": [
       "(3, 3)"
      ]
     },
     "execution_count": 6,
     "metadata": {},
     "output_type": "execute_result"
    }
   ],
   "source": [
    "X.shape"
   ]
  },
  {
   "cell_type": "code",
   "execution_count": 8,
   "id": "faccbc4f-5f88-45a7-9ece-68277191917c",
   "metadata": {},
   "outputs": [
    {
     "data": {
      "text/plain": [
       "(3, 3)"
      ]
     },
     "execution_count": 8,
     "metadata": {},
     "output_type": "execute_result"
    }
   ],
   "source": [
    "Y.shape"
   ]
  },
  {
   "cell_type": "markdown",
   "id": "0195c920-b966-4c7d-a332-2380f7106ef6",
   "metadata": {},
   "source": [
    "Cuando entrenas un modelo (por ejemplo, una regresión logística o un clasificador), puedes usar meshgrid para generar una rejilla de puntos que cubra todo el espacio de características."
   ]
  },
  {
   "cell_type": "code",
   "execution_count": 9,
   "id": "6e13f6f8-6b04-44fe-b43d-079fdce0e45b",
   "metadata": {},
   "outputs": [],
   "source": [
    "x0, x1 = np.meshgrid(x, y)\n"
   ]
  },
  {
   "cell_type": "code",
   "execution_count": 10,
   "id": "1e263b8f-3d49-4aa2-a4c8-846a354177a1",
   "metadata": {},
   "outputs": [
    {
     "data": {
      "text/plain": [
       "array([[1, 2, 3],\n",
       "       [1, 2, 3],\n",
       "       [1, 2, 3]])"
      ]
     },
     "execution_count": 10,
     "metadata": {},
     "output_type": "execute_result"
    }
   ],
   "source": [
    "x0"
   ]
  },
  {
   "cell_type": "code",
   "execution_count": 11,
   "id": "4f0df387-a1db-4778-96a4-374c2049be0e",
   "metadata": {},
   "outputs": [
    {
     "data": {
      "text/plain": [
       "array([[10, 10, 10],\n",
       "       [20, 20, 20],\n",
       "       [30, 30, 30]])"
      ]
     },
     "execution_count": 11,
     "metadata": {},
     "output_type": "execute_result"
    }
   ],
   "source": [
    "x1"
   ]
  },
  {
   "cell_type": "markdown",
   "id": "334582be-454f-4217-ab1a-e3366d695811",
   "metadata": {},
   "source": [
    "Aplanamos ambas matrices con .ravel()"
   ]
  },
  {
   "cell_type": "code",
   "execution_count": 12,
   "id": "3dc944b5-e441-4506-ae28-175bd35d8e0b",
   "metadata": {},
   "outputs": [],
   "source": [
    "x0_flat = x0.ravel()\n",
    "x1_flat = x1.ravel()\n"
   ]
  },
  {
   "cell_type": "code",
   "execution_count": 16,
   "id": "d24db753-6bfb-4420-b6f5-11d6c18d686a",
   "metadata": {},
   "outputs": [
    {
     "data": {
      "text/plain": [
       "array([1, 2, 3, 1, 2, 3, 1, 2, 3])"
      ]
     },
     "execution_count": 16,
     "metadata": {},
     "output_type": "execute_result"
    }
   ],
   "source": [
    " x0_flat"
   ]
  },
  {
   "cell_type": "code",
   "execution_count": 17,
   "id": "72d568c9-d4bb-4192-adc9-5c3505d7e5fb",
   "metadata": {},
   "outputs": [
    {
     "data": {
      "text/plain": [
       "array([10, 10, 10, 20, 20, 20, 30, 30, 30])"
      ]
     },
     "execution_count": 17,
     "metadata": {},
     "output_type": "execute_result"
    }
   ],
   "source": [
    " x1_flat"
   ]
  },
  {
   "cell_type": "markdown",
   "id": "88c73415-4fbe-4dcf-84e0-c3dcf64ee1b0",
   "metadata": {},
   "source": [
    "Los combinamos con np.c_[]"
   ]
  },
  {
   "cell_type": "code",
   "execution_count": 18,
   "id": "41e5c8d2-edbe-4ead-8b31-ad1b2b9486a9",
   "metadata": {},
   "outputs": [],
   "source": [
    "X_new = np.c_[x0_flat, x1_flat]"
   ]
  },
  {
   "cell_type": "code",
   "execution_count": 19,
   "id": "d4b6e22a-5516-4fe5-b41f-fe23d9cb6d5b",
   "metadata": {},
   "outputs": [
    {
     "data": {
      "text/plain": [
       "array([[ 1, 10],\n",
       "       [ 2, 10],\n",
       "       [ 3, 10],\n",
       "       [ 1, 20],\n",
       "       [ 2, 20],\n",
       "       [ 3, 20],\n",
       "       [ 1, 30],\n",
       "       [ 2, 30],\n",
       "       [ 3, 30]])"
      ]
     },
     "execution_count": 19,
     "metadata": {},
     "output_type": "execute_result"
    }
   ],
   "source": [
    "X_new"
   ]
  },
  {
   "cell_type": "code",
   "execution_count": 21,
   "id": "e788a443-4f66-48e6-9aa6-ebb7074bad30",
   "metadata": {},
   "outputs": [
    {
     "data": {
      "text/plain": [
       "(9, 2)"
      ]
     },
     "execution_count": 21,
     "metadata": {},
     "output_type": "execute_result"
    }
   ],
   "source": [
    "X_new.shape"
   ]
  },
  {
   "cell_type": "markdown",
   "id": "480b7d57-54c7-4e82-a34b-7dc8e2b726b6",
   "metadata": {},
   "source": [
    "Cada fila de X_new es un punto del plano (x, y).\n",
    "Es lo que luego le pasarás al modelo con model.predict(X_new)"
   ]
  },
  {
   "cell_type": "markdown",
   "id": "4cb8f326-c613-460d-96f5-825a02c174d8",
   "metadata": {},
   "source": [
    "Cómo se usa en un gráfico\n",
    "\n",
    "Cuando quieres visualizar un modelo (por ejemplo, las fronteras de decisión):\n",
    "\n",
    "1)Generas un meshgrid (como el de [1,2,3] y [10,20,30], pero más denso).\n",
    "\n",
    "2)Predices en todos los puntos (model.predict(X_new))\n",
    "\n",
    "3)Das forma a las predicciones (.reshape(x0.shape)).\n",
    "\n",
    "4) Dibujas las curvas con plt.contour(x0, x1, predicciones)."
   ]
  },
  {
   "cell_type": "code",
   "execution_count": 22,
   "id": "d442ea4b-7f49-464e-993b-a3c5df29642b",
   "metadata": {},
   "outputs": [],
   "source": [
    "import numpy as np\n",
    "import matplotlib.pyplot as plt\n",
    "\n",
    "x = np.array([1, 2, 3])\n",
    "y = np.array([10, 20, 30])\n"
   ]
  },
  {
   "cell_type": "code",
   "execution_count": 23,
   "id": "1f25c9c1-1648-466b-bf66-ce31832d7e6a",
   "metadata": {},
   "outputs": [],
   "source": [
    "x0, x1 = np.meshgrid(x, y)"
   ]
  },
  {
   "cell_type": "code",
   "execution_count": 24,
   "id": "992cf38e-fea3-43d2-a171-8e2202beefd2",
   "metadata": {},
   "outputs": [
    {
     "data": {
      "text/plain": [
       "array([[1, 2, 3],\n",
       "       [1, 2, 3],\n",
       "       [1, 2, 3]])"
      ]
     },
     "execution_count": 24,
     "metadata": {},
     "output_type": "execute_result"
    }
   ],
   "source": [
    "x0"
   ]
  },
  {
   "cell_type": "code",
   "execution_count": 25,
   "id": "47e38991-f59f-43a7-8428-b7034f31b0c4",
   "metadata": {},
   "outputs": [
    {
     "data": {
      "text/plain": [
       "array([[10, 10, 10],\n",
       "       [20, 20, 20],\n",
       "       [30, 30, 30]])"
      ]
     },
     "execution_count": 25,
     "metadata": {},
     "output_type": "execute_result"
    }
   ],
   "source": [
    "x1"
   ]
  },
  {
   "cell_type": "markdown",
   "id": "eb6e1645-c9fe-460c-8205-6eceec601d22",
   "metadata": {},
   "source": [
    "Por ejemplo aplicamos la función z=x+y"
   ]
  },
  {
   "cell_type": "code",
   "execution_count": 26,
   "id": "e3518022-95bb-406e-9c92-e0f859c53831",
   "metadata": {},
   "outputs": [],
   "source": [
    "zz= x0 +x1"
   ]
  },
  {
   "cell_type": "code",
   "execution_count": 27,
   "id": "72d10002-ac94-40b6-aa77-161353777e0d",
   "metadata": {},
   "outputs": [
    {
     "data": {
      "text/plain": [
       "array([[11, 12, 13],\n",
       "       [21, 22, 23],\n",
       "       [31, 32, 33]])"
      ]
     },
     "execution_count": 27,
     "metadata": {},
     "output_type": "execute_result"
    }
   ],
   "source": [
    "zz"
   ]
  },
  {
   "cell_type": "markdown",
   "id": "b3eecf8c-ad38-48c3-840d-fe2679df57dd",
   "metadata": {},
   "source": [
    "Visualizamos con contour (curvas de nivel)"
   ]
  },
  {
   "cell_type": "code",
   "execution_count": 28,
   "id": "ba00ce95-0de1-4220-8b50-e1995c23f952",
   "metadata": {},
   "outputs": [
    {
     "data": {
      "image/png": "[encoded data removed]",
      "text/plain": [
       "<Figure size 500x400 with 1 Axes>"
      ]
     },
     "metadata": {},
     "output_type": "display_data"
    }
   ],
   "source": [
    "plt.figure(figsize=(5, 4))\n",
    "contour = plt.contour(x0, x1, zz, cmap=\"viridis\")\n",
    "plt.clabel(contour, inline=True)\n",
    "plt.xlabel(\"x0 (x)\")\n",
    "plt.ylabel(\"x1 (y)\")\n",
    "plt.title(\"Ejemplo simple con z = x + y\")\n",
    "plt.show()\n"
   ]
  },
  {
   "cell_type": "code",
   "execution_count": 29,
   "id": "b6f5389f-ff80-434d-9782-bc7d4afd0a22",
   "metadata": {},
   "outputs": [
    {
     "name": "stdout",
     "output_type": "stream",
     "text": [
      "[ 9. 12. 15. 18. 21. 24. 27. 30. 33.]\n"
     ]
    }
   ],
   "source": [
    "print(contour.levels)"
   ]
  },
  {
   "cell_type": "code",
   "execution_count": null,
   "id": "16b7a48d-b050-44d4-9fd9-eb72df655260",
   "metadata": {},
   "outputs": [],
   "source": []
  }
 ],
 "metadata": {
  "kernelspec": {
   "display_name": "Python (geron)",
   "language": "python",
   "name": "geron"
  },
  "language_info": {
   "codemirror_mode": {
    "name": "ipython",
    "version": 3
   },
   "file_extension": ".py",
   "mimetype": "text/x-python",
   "name": "python",
   "nbconvert_exporter": "python",
   "pygments_lexer": "ipython3",
   "version": "3.10.18"
  }
 },
 "nbformat": 4,
 "nbformat_minor": 5
}
